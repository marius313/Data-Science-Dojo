{
 "cells": [
  {
   "cell_type": "code",
   "execution_count": 1,
   "metadata": {},
   "outputs": [],
   "source": [
    "import pandas as pd\n",
    "import numpy as np\n",
    "import seaborn as sns\n",
    "import matplotlib.pyplot as plt\n",
    "%matplotlib inline\n",
    "sns.set_style(\"whitegrid\")"
   ]
  },
  {
   "cell_type": "markdown",
   "metadata": {},
   "source": [
    "### PPD data\n",
    "https://www.gov.uk/government/statistical-data-sets/price-paid-data-downloads"
   ]
  },
  {
   "cell_type": "code",
   "execution_count": 2,
   "metadata": {},
   "outputs": [
    {
     "data": {
      "text/plain": [
       "(100789, 16)"
      ]
     },
     "execution_count": 2,
     "metadata": {},
     "output_type": "execute_result"
    }
   ],
   "source": [
    "ppd=pd.read_csv('pp-monthly-update-new-version.csv', header=None, prefix='X') #read in lastest property sales data\n",
    "ppd.shape # see dimensions of data set"
   ]
  },
  {
   "cell_type": "code",
   "execution_count": 3,
   "metadata": {},
   "outputs": [
    {
     "data": {
      "text/html": [
       "<div>\n",
       "<style scoped>\n",
       "    .dataframe tbody tr th:only-of-type {\n",
       "        vertical-align: middle;\n",
       "    }\n",
       "\n",
       "    .dataframe tbody tr th {\n",
       "        vertical-align: top;\n",
       "    }\n",
       "\n",
       "    .dataframe thead th {\n",
       "        text-align: right;\n",
       "    }\n",
       "</style>\n",
       "<table border=\"1\" class=\"dataframe\">\n",
       "  <thead>\n",
       "    <tr style=\"text-align: right;\">\n",
       "      <th></th>\n",
       "      <th>X1</th>\n",
       "      <th>X2</th>\n",
       "      <th>X3</th>\n",
       "      <th>X4</th>\n",
       "      <th>X5</th>\n",
       "      <th>X6</th>\n",
       "      <th>X7</th>\n",
       "      <th>X8</th>\n",
       "      <th>X9</th>\n",
       "      <th>X10</th>\n",
       "      <th>X11</th>\n",
       "      <th>X12</th>\n",
       "      <th>X13</th>\n",
       "      <th>postcode_district</th>\n",
       "      <th>yyyy</th>\n",
       "      <th>mm</th>\n",
       "      <th>yyyymm</th>\n",
       "    </tr>\n",
       "  </thead>\n",
       "  <tbody>\n",
       "    <tr>\n",
       "      <th>0</th>\n",
       "      <td>380000</td>\n",
       "      <td>2006-06-30</td>\n",
       "      <td>BS40 8BG</td>\n",
       "      <td>D</td>\n",
       "      <td>N</td>\n",
       "      <td>F</td>\n",
       "      <td>WAPSELL COTTAGE</td>\n",
       "      <td>NaN</td>\n",
       "      <td>UPPER STRODE</td>\n",
       "      <td>WINFORD</td>\n",
       "      <td>BRISTOL</td>\n",
       "      <td>NORTH SOMERSET</td>\n",
       "      <td>NORTH SOMERSET</td>\n",
       "      <td>BS40</td>\n",
       "      <td>2006</td>\n",
       "      <td>6</td>\n",
       "      <td>200606</td>\n",
       "    </tr>\n",
       "    <tr>\n",
       "      <th>1</th>\n",
       "      <td>130000</td>\n",
       "      <td>2006-08-10</td>\n",
       "      <td>LL28 4RU</td>\n",
       "      <td>F</td>\n",
       "      <td>N</td>\n",
       "      <td>L</td>\n",
       "      <td>18A</td>\n",
       "      <td>NaN</td>\n",
       "      <td>WOODLANDS AVENUE</td>\n",
       "      <td>RHOS ON SEA</td>\n",
       "      <td>COLWYN BAY</td>\n",
       "      <td>CONWY</td>\n",
       "      <td>CONWY</td>\n",
       "      <td>LL28</td>\n",
       "      <td>2006</td>\n",
       "      <td>8</td>\n",
       "      <td>200608</td>\n",
       "    </tr>\n",
       "    <tr>\n",
       "      <th>2</th>\n",
       "      <td>282500</td>\n",
       "      <td>2006-07-14</td>\n",
       "      <td>TQ13 7NH</td>\n",
       "      <td>T</td>\n",
       "      <td>N</td>\n",
       "      <td>F</td>\n",
       "      <td>4</td>\n",
       "      <td>NaN</td>\n",
       "      <td>GOLDEN LION COURT</td>\n",
       "      <td>ASHBURTON</td>\n",
       "      <td>NEWTON ABBOT</td>\n",
       "      <td>TEIGNBRIDGE</td>\n",
       "      <td>DEVON</td>\n",
       "      <td>TQ13</td>\n",
       "      <td>2006</td>\n",
       "      <td>7</td>\n",
       "      <td>200607</td>\n",
       "    </tr>\n",
       "    <tr>\n",
       "      <th>3</th>\n",
       "      <td>237000</td>\n",
       "      <td>2006-06-08</td>\n",
       "      <td>DT2 7DB</td>\n",
       "      <td>S</td>\n",
       "      <td>N</td>\n",
       "      <td>F</td>\n",
       "      <td>IVY BARN COTTAGE</td>\n",
       "      <td>NaN</td>\n",
       "      <td>NaN</td>\n",
       "      <td>BUCKLAND NEWTON</td>\n",
       "      <td>DORCHESTER</td>\n",
       "      <td>DORSET</td>\n",
       "      <td>DORSET</td>\n",
       "      <td>DT2</td>\n",
       "      <td>2006</td>\n",
       "      <td>6</td>\n",
       "      <td>200606</td>\n",
       "    </tr>\n",
       "    <tr>\n",
       "      <th>4</th>\n",
       "      <td>125000</td>\n",
       "      <td>2006-01-24</td>\n",
       "      <td>DT11 0SP</td>\n",
       "      <td>T</td>\n",
       "      <td>N</td>\n",
       "      <td>F</td>\n",
       "      <td>2</td>\n",
       "      <td>NaN</td>\n",
       "      <td>MAYPOLE TERRACE</td>\n",
       "      <td>SHILLINGSTONE</td>\n",
       "      <td>BLANDFORD FORUM</td>\n",
       "      <td>DORSET</td>\n",
       "      <td>DORSET</td>\n",
       "      <td>DT11</td>\n",
       "      <td>2006</td>\n",
       "      <td>1</td>\n",
       "      <td>200601</td>\n",
       "    </tr>\n",
       "  </tbody>\n",
       "</table>\n",
       "</div>"
      ],
      "text/plain": [
       "       X1         X2        X3 X4 X5 X6                X7   X8  \\\n",
       "0  380000 2006-06-30  BS40 8BG  D  N  F   WAPSELL COTTAGE  NaN   \n",
       "1  130000 2006-08-10  LL28 4RU  F  N  L               18A  NaN   \n",
       "2  282500 2006-07-14  TQ13 7NH  T  N  F                 4  NaN   \n",
       "3  237000 2006-06-08   DT2 7DB  S  N  F  IVY BARN COTTAGE  NaN   \n",
       "4  125000 2006-01-24  DT11 0SP  T  N  F                 2  NaN   \n",
       "\n",
       "                  X9              X10              X11             X12  \\\n",
       "0       UPPER STRODE          WINFORD          BRISTOL  NORTH SOMERSET   \n",
       "1   WOODLANDS AVENUE      RHOS ON SEA       COLWYN BAY           CONWY   \n",
       "2  GOLDEN LION COURT        ASHBURTON     NEWTON ABBOT     TEIGNBRIDGE   \n",
       "3                NaN  BUCKLAND NEWTON       DORCHESTER          DORSET   \n",
       "4    MAYPOLE TERRACE    SHILLINGSTONE  BLANDFORD FORUM          DORSET   \n",
       "\n",
       "              X13 postcode_district  yyyy  mm  yyyymm  \n",
       "0  NORTH SOMERSET              BS40  2006   6  200606  \n",
       "1           CONWY              LL28  2006   8  200608  \n",
       "2           DEVON              TQ13  2006   7  200607  \n",
       "3          DORSET               DT2  2006   6  200606  \n",
       "4          DORSET              DT11  2006   1  200601  "
      ]
     },
     "execution_count": 3,
     "metadata": {},
     "output_type": "execute_result"
    }
   ],
   "source": [
    "ppd['postcode_district']=ppd['X3'].str.split(' ').str[0].tolist()\n",
    "ppd['X2']=pd.to_datetime(ppd['X2'])\n",
    "ppd['yyyy']=ppd['X2'].map(lambda x: x.to_pydatetime().year)\n",
    "ppd['mm']=ppd['X2'].map(lambda x: x.to_pydatetime().month)\n",
    "ppd['yyyymm']=ppd['X2'].dt.strftime('%Y%m')\n",
    "ppd = ppd.drop(columns=['X0','X14','X15']) #see top rows of data set\n",
    "ppd.head()"
   ]
  },
  {
   "cell_type": "code",
   "execution_count": 4,
   "metadata": {},
   "outputs": [],
   "source": [
    "# cols = [ 'Price', 'Date', 'Postcode', 'Type', 'New?', 'Leasehold?', 'PAON', 'SAON', 'Street', 'Locality', 'Town', 'District', \n",
    "#          'County', 'PPD Category', 'Record Status']"
   ]
  },
  {
   "cell_type": "markdown",
   "metadata": {},
   "source": [
    "* name of the street is popular\n",
    "* flat vs. cottage"
   ]
  },
  {
   "cell_type": "code",
   "execution_count": 5,
   "metadata": {},
   "outputs": [
    {
     "data": {
      "text/plain": [
       "BIRMINGHAM         1495\n",
       "LEEDS              1461\n",
       "CORNWALL           1188\n",
       "COUNTY DURHAM      1018\n",
       "LIVERPOOL           939\n",
       "                   ... \n",
       "ISLES OF SCILLY       5\n",
       "EAST DORSET           1\n",
       "POOLE                 1\n",
       "COLWYN                1\n",
       "PURBECK               1\n",
       "Name: X12, Length: 343, dtype: int64"
      ]
     },
     "execution_count": 5,
     "metadata": {},
     "output_type": "execute_result"
    }
   ],
   "source": [
    "ppd['X12'].value_counts()"
   ]
  },
  {
   "cell_type": "code",
   "execution_count": null,
   "metadata": {},
   "outputs": [],
   "source": []
  },
  {
   "cell_type": "code",
   "execution_count": 6,
   "metadata": {},
   "outputs": [],
   "source": [
    "ppd['postcode2'] =  ppd['X3'].str.split(' ').str[0] + ' ' + ppd['X3'].str.split(' ').str[1].str[0]"
   ]
  },
  {
   "cell_type": "code",
   "execution_count": null,
   "metadata": {},
   "outputs": [],
   "source": []
  },
  {
   "cell_type": "code",
   "execution_count": 7,
   "metadata": {},
   "outputs": [
    {
     "data": {
      "text/plain": [
       "<matplotlib.axes._subplots.AxesSubplot at 0x2adc0cc6848>"
      ]
     },
     "execution_count": 7,
     "metadata": {},
     "output_type": "execute_result"
    },
    {
     "data": {
      "image/png": "[encoded data removed]",
      "text/plain": [
       "<Figure size 432x288 with 1 Axes>"
      ]
     },
     "metadata": {},
     "output_type": "display_data"
    }
   ],
   "source": [
    "sns.boxplot(ppd['X4'], ppd['X1'], showfliers=False)"
   ]
  },
  {
   "cell_type": "code",
   "execution_count": 8,
   "metadata": {},
   "outputs": [
    {
     "data": {
      "text/plain": [
       "<matplotlib.axes._subplots.AxesSubplot at 0x2adbbde33c8>"
      ]
     },
     "execution_count": 8,
     "metadata": {},
     "output_type": "execute_result"
    },
    {
     "data": {
      "image/png": "[encoded data removed]",
      "text/plain": [
       "<Figure size 432x288 with 1 Axes>"
      ]
     },
     "metadata": {},
     "output_type": "display_data"
    }
   ],
   "source": [
    "sns.boxplot(ppd['X5'], ppd['X1'], showfliers=False)"
   ]
  },
  {
   "cell_type": "code",
   "execution_count": 9,
   "metadata": {},
   "outputs": [
    {
     "data": {
      "text/plain": [
       "<matplotlib.axes._subplots.AxesSubplot at 0x2adbbdb02c8>"
      ]
     },
     "execution_count": 9,
     "metadata": {},
     "output_type": "execute_result"
    },
    {
     "data": {
      "image/png": "[encoded data removed]",
      "text/plain": [
       "<Figure size 432x288 with 1 Axes>"
      ]
     },
     "metadata": {},
     "output_type": "display_data"
    }
   ],
   "source": [
    "sns.boxplot(ppd['X6'], ppd['X1'], showfliers=False)"
   ]
  },
  {
   "cell_type": "code",
   "execution_count": null,
   "metadata": {},
   "outputs": [],
   "source": []
  },
  {
   "cell_type": "code",
   "execution_count": 10,
   "metadata": {},
   "outputs": [],
   "source": [
    "ppd = ppd.join(pd.get_dummies(ppd['X4']))"
   ]
  },
  {
   "cell_type": "code",
   "execution_count": 11,
   "metadata": {},
   "outputs": [],
   "source": [
    "ppd['New?'] = 0\n",
    "ppd.loc[ppd['X5']=='Y', 'New?'] = 1"
   ]
  },
  {
   "cell_type": "code",
   "execution_count": 12,
   "metadata": {},
   "outputs": [],
   "source": [
    "ppd['Lease?'] = 0\n",
    "ppd.loc[ppd['X6']=='L', 'Lease?'] = 1"
   ]
  },
  {
   "cell_type": "code",
   "execution_count": 13,
   "metadata": {},
   "outputs": [
    {
     "data": {
      "text/plain": [
       "(100789, 25)"
      ]
     },
     "execution_count": 13,
     "metadata": {},
     "output_type": "execute_result"
    }
   ],
   "source": [
    "ppd.shape"
   ]
  },
  {
   "cell_type": "code",
   "execution_count": 14,
   "metadata": {},
   "outputs": [],
   "source": [
    "from sklearn.feature_extraction import FeatureHasher"
   ]
  },
  {
   "cell_type": "code",
   "execution_count": 15,
   "metadata": {},
   "outputs": [
    {
     "data": {
      "text/plain": [
       "7913"
      ]
     },
     "execution_count": 15,
     "metadata": {},
     "output_type": "execute_result"
    }
   ],
   "source": [
    "len(ppd['postcode2'].unique())"
   ]
  },
  {
   "cell_type": "code",
   "execution_count": 16,
   "metadata": {},
   "outputs": [],
   "source": [
    "ppd['postcode2'] = ppd['postcode2'].astype(str)"
   ]
  },
  {
   "cell_type": "code",
   "execution_count": 17,
   "metadata": {},
   "outputs": [],
   "source": [
    "h = FeatureHasher(n_features=100, input_type='string')\n",
    "pc_hash = h.fit_transform(ppd['postcode2'])"
   ]
  },
  {
   "cell_type": "code",
   "execution_count": 18,
   "metadata": {},
   "outputs": [],
   "source": [
    "pc_hash_cols = ['PC_hash_'+str(t) for t in range(pc_hash.shape[1])]"
   ]
  },
  {
   "cell_type": "code",
   "execution_count": 19,
   "metadata": {},
   "outputs": [],
   "source": [
    "ppd = ppd.join(pd.DataFrame(pc_hash.toarray(), index=ppd.index, columns=pc_hash_cols))"
   ]
  },
  {
   "cell_type": "code",
   "execution_count": null,
   "metadata": {},
   "outputs": [],
   "source": []
  },
  {
   "cell_type": "code",
   "execution_count": null,
   "metadata": {},
   "outputs": [],
   "source": []
  },
  {
   "cell_type": "code",
   "execution_count": 20,
   "metadata": {},
   "outputs": [],
   "source": [
    "good_columns = ['D', 'F', 'T', 'S', 'O', 'New?', 'Lease?', 'yyyymm'] + pc_hash_cols"
   ]
  },
  {
   "cell_type": "code",
   "execution_count": 21,
   "metadata": {},
   "outputs": [],
   "source": [
    "X = ppd[good_columns].copy()\n",
    "y = ppd['X1'].copy()"
   ]
  },
  {
   "cell_type": "code",
   "execution_count": 22,
   "metadata": {},
   "outputs": [],
   "source": [
    "from sklearn.ensemble import RandomForestRegressor\n",
    "from sklearn.linear_model import LinearRegression\n",
    "from sklearn.model_selection import train_test_split\n",
    "from sklearn.metrics import r2_score"
   ]
  },
  {
   "cell_type": "code",
   "execution_count": 23,
   "metadata": {},
   "outputs": [],
   "source": [
    "X_train, X_test, y_train, y_test = train_test_split(X, y, test_size=0.33)"
   ]
  },
  {
   "cell_type": "code",
   "execution_count": 24,
   "metadata": {},
   "outputs": [],
   "source": [
    "regr = RandomForestRegressor(max_depth=8,n_estimators=300, n_jobs=-1)\n",
    "# regr = LinearRegression()"
   ]
  },
  {
   "cell_type": "code",
   "execution_count": 25,
   "metadata": {},
   "outputs": [],
   "source": [
    "model = regr.fit(X_train, y_train)"
   ]
  },
  {
   "cell_type": "code",
   "execution_count": 26,
   "metadata": {},
   "outputs": [
    {
     "data": {
      "text/plain": [
       "0.6034112100414495"
      ]
     },
     "execution_count": 26,
     "metadata": {},
     "output_type": "execute_result"
    }
   ],
   "source": [
    "model.score(X_train, y_train)"
   ]
  },
  {
   "cell_type": "code",
   "execution_count": 27,
   "metadata": {},
   "outputs": [],
   "source": [
    "y_train_pred = model.predict(X_train)"
   ]
  },
  {
   "cell_type": "code",
   "execution_count": 28,
   "metadata": {},
   "outputs": [
    {
     "data": {
      "text/plain": [
       "0.6034112100414497"
      ]
     },
     "execution_count": 28,
     "metadata": {},
     "output_type": "execute_result"
    }
   ],
   "source": [
    "r2_score(y_train, y_train_pred)"
   ]
  },
  {
   "cell_type": "code",
   "execution_count": 29,
   "metadata": {},
   "outputs": [],
   "source": [
    "y_test_pred = model.predict(X_test)"
   ]
  },
  {
   "cell_type": "code",
   "execution_count": 30,
   "metadata": {},
   "outputs": [
    {
     "data": {
      "text/plain": [
       "-0.3856449978165717"
      ]
     },
     "execution_count": 30,
     "metadata": {},
     "output_type": "execute_result"
    }
   ],
   "source": [
    "r2_score(y_test, y_test_pred)"
   ]
  },
  {
   "cell_type": "code",
   "execution_count": null,
   "metadata": {},
   "outputs": [],
   "source": []
  },
  {
   "cell_type": "code",
   "execution_count": 31,
   "metadata": {},
   "outputs": [],
   "source": [
    "from sklearn.model_selection import cross_val_score"
   ]
  },
  {
   "cell_type": "code",
   "execution_count": 32,
   "metadata": {},
   "outputs": [],
   "source": [
    "# np.mean(cross_val_score(regr, X, y, cv=5))"
   ]
  },
  {
   "cell_type": "code",
   "execution_count": null,
   "metadata": {},
   "outputs": [],
   "source": []
  },
  {
   "cell_type": "code",
   "execution_count": null,
   "metadata": {},
   "outputs": [],
   "source": []
  },
  {
   "cell_type": "code",
   "execution_count": null,
   "metadata": {},
   "outputs": [],
   "source": []
  },
  {
   "cell_type": "code",
   "execution_count": null,
   "metadata": {},
   "outputs": [],
   "source": []
  },
  {
   "cell_type": "code",
   "execution_count": null,
   "metadata": {},
   "outputs": [],
   "source": []
  },
  {
   "cell_type": "code",
   "execution_count": null,
   "metadata": {},
   "outputs": [],
   "source": [
    "# ppd.head().T"
   ]
  },
  {
   "cell_type": "code",
   "execution_count": null,
   "metadata": {},
   "outputs": [],
   "source": [
    "# cols = [ 'Price', 'Date', 'Postcode', 'Type', 'New?', 'Leasehold?', 'PAON', 'SAON', 'Street', 'Locality', 'Town', 'District', \n",
    "#          'County', 'PPD Category', 'Record Status']"
   ]
  },
  {
   "cell_type": "code",
   "execution_count": null,
   "metadata": {},
   "outputs": [],
   "source": [
    "ppd.groupby('postcode_district')['X1'].agg('count').sort_values(ascending=False).head()"
   ]
  },
  {
   "cell_type": "code",
   "execution_count": null,
   "metadata": {},
   "outputs": [],
   "source": [
    "ppd.loc[ppd['postcode_district']=='M5', 'X1'].clip(0,1e7).hist(bins=50)"
   ]
  },
  {
   "cell_type": "code",
   "execution_count": null,
   "metadata": {},
   "outputs": [],
   "source": []
  },
  {
   "cell_type": "code",
   "execution_count": null,
   "metadata": {},
   "outputs": [],
   "source": []
  },
  {
   "cell_type": "code",
   "execution_count": null,
   "metadata": {},
   "outputs": [],
   "source": []
  },
  {
   "cell_type": "code",
   "execution_count": null,
   "metadata": {},
   "outputs": [],
   "source": []
  },
  {
   "cell_type": "code",
   "execution_count": null,
   "metadata": {},
   "outputs": [],
   "source": []
  },
  {
   "cell_type": "code",
   "execution_count": null,
   "metadata": {},
   "outputs": [],
   "source": []
  },
  {
   "cell_type": "code",
   "execution_count": null,
   "metadata": {},
   "outputs": [],
   "source": [
    "ppd.groupby('postcode_district')['X1'].agg('mean').reset_index()"
   ]
  },
  {
   "cell_type": "code",
   "execution_count": null,
   "metadata": {},
   "outputs": [],
   "source": []
  }
 ],
 "metadata": {
  "kernelspec": {
   "display_name": "Python 3",
   "language": "python",
   "name": "python3"
  },
  "language_info": {
   "codemirror_mode": {
    "name": "ipython",
    "version": 3
   },
   "file_extension": ".py",
   "mimetype": "text/x-python",
   "name": "python",
   "nbconvert_exporter": "python",
   "pygments_lexer": "ipython3",
   "version": "3.7.6"
  }
 },
 "nbformat": 4,
 "nbformat_minor": 4
}
